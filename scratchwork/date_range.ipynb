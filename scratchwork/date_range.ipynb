{
 "cells": [
  {
   "cell_type": "markdown",
   "metadata": {},
   "source": [
    "# Give a date range\n",
    "\n",
    "Goal: Turn dates from Karrow's index that are imprecise in some way and turn them into a range"
   ]
  },
  {
   "cell_type": "code",
   "execution_count": null,
   "metadata": {},
   "outputs": [],
   "source": [
    "import pandas as pd\n",
    "import numpy as np\n",
    "import logging\n",
    "\n",
    "# Set up logging\n",
    "logging.basicConfig(level=logging.INFO)"
   ]
  },
  {
   "cell_type": "code",
   "execution_count": null,
   "metadata": {},
   "outputs": [],
   "source": [
    "# load in the file from Index to Place and Date combined with mapmaker's names\n",
    "index_with_mapmakers = pd.read_csv('../outputs/index_to_place_and_date_and_mapmaker_names.csv')\n",
    "index_with_mapmakers"
   ]
  },
  {
   "cell_type": "code",
   "execution_count": null,
   "metadata": {},
   "outputs": [],
   "source": [
    "# add empty columns for estimates of earliest and latest dates for map publication\n",
    "index_with_mapmakers['earliest_date_estimate'] = np.nan\n",
    "index_with_mapmakers['latest_date_estimate'] = np.nan\n",
    "index_with_mapmakers"
   ]
  },
  {
   "cell_type": "code",
   "execution_count": null,
   "metadata": {},
   "outputs": [],
   "source": [
    "# iterate through the rows of the pandas dataframe and fill in the easier date estimates\n",
    "# NOTE: in general, iterating through rows is poor practice in pandas, but in this case it makes the code easier, and the data set is small, so I'm not worried about performance.\n",
    "\n",
    "total_data_count = len(index_with_mapmakers)\n",
    "\n",
    "for index, row in index_with_mapmakers.iterrows():\n",
    "    # get the date string\n",
    "    date = row['date']\n",
    "\n",
    "    # if the date is an integer (ie single year) between 1400 and 1900, then we can use it as the earliest and latest date estimate\n",
    "    if date.isnumeric() and int(date) >= 1400 and int(date) <= 1900:\n",
    "        index_with_mapmakers.at[index, 'earliest_date_estimate'] = int(date)\n",
    "        index_with_mapmakers.at[index, 'latest_date_estimate'] = int(date)\n",
    "\n",
    "# report out the number of single year dates that we found\n",
    "single_year_dates_count = index_with_mapmakers['earliest_date_estimate'].notnull().sum()\n",
    "\n",
    "logging.info(f'Found {single_year_dates_count} single year dates out of {total_data_count} total data points')\n",
    "    \n",
    "logging.info(f\"Value that should be empty or NaN or not a number: {index_with_mapmakers['earliest_date_estimate'].iloc[2318]}\")\n",
    "index_with_mapmakers"
   ]
  },
  {
   "cell_type": "code",
   "execution_count": null,
   "metadata": {},
   "outputs": [],
   "source": [
    "# Now, fill in the straightforward ranges\n",
    "\n",
    "for index, row in index_with_mapmakers.iterrows():\n",
    "    # get the date string\n",
    "    date = row['date']\n",
    "\n",
    "    # if the date is a range, then we can use it as the earliest and latest date estimate\n",
    "    if '-' in date:\n",
    "        # split the date range\n",
    "        date_range = date.split('-')\n",
    "        earliest_date = date_range[0]\n",
    "        latest_date = date_range[1]\n",
    "\n",
    "        # if the earliest date is a single year, then we can use it as the earliest date estimate\n",
    "        if earliest_date.isnumeric() and int(earliest_date) >= 1400 and int(earliest_date) <= 1900:\n",
    "            index_with_mapmakers.at[index, 'earliest_date_estimate'] = int(earliest_date)\n",
    "\n",
    "            # Karrow generally used abbreviations for the second half of the date range, so we need to convert them to full years\n",
    "            if latest_date.isnumeric():\n",
    "                if int(latest_date) < 10:\n",
    "                    # if it's a single digit, replace the final digit of the earliest date with the single digit\n",
    "                    index_with_mapmakers.at[index, 'latest_date_estimate'] = int(str(earliest_date)[:-1] + latest_date)\n",
    "                elif int(latest_date) < 100:\n",
    "                    # if it's a double digit, replace the final two digits of the earliest date with the double digit\n",
    "                    index_with_mapmakers.at[index, 'latest_date_estimate'] = int(str(earliest_date)[:-2] + latest_date)\n",
    "                elif int(latest_date) < 1000:\n",
    "                    # if it's a triple digit, replace the final three digits of the earliest date with the triple digit\n",
    "                    # this would look really weird, and I don't think Karrow actually did this\n",
    "                    index_with_mapmakers.at[index, 'latest_date_estimate'] = int(str(earliest_date)[:-3] + latest_date)\n",
    "                elif int(latest_date) > int(earliest_date):\n",
    "                    # if it's a full year, then we can use it as the latest date estimate\n",
    "                    index_with_mapmakers.at[index, 'latest_date_estimate'] = int(latest_date)\n",
    "                else:\n",
    "                    # if it's a full year, but it's less than the earliest date, then it's probably a typo\n",
    "                    logging.warning(f\"Latest date is less than earliest date: {earliest_date} - {latest_date}\")\n",
    "            else:\n",
    "                # if the latest date is not a number (but the earliest date was a number), then it's probably a typo\n",
    "                logging.warning(f\"Latest date is not a number: {earliest_date} - {latest_date}\")\n",
    "\n",
    "# report out the number of range dates that we found\n",
    "range_dates_count = index_with_mapmakers['earliest_date_estimate'].notnull().sum() - single_year_dates_count\n",
    "\n",
    "logging.info(f'Found {range_dates_count} range dates out of {total_data_count} total data points')\n",
    "logging.info(f\"Now, {single_year_dates_count+range_dates_count} out of {total_data_count} total data points have date estimates\")\n",
    "\n",
    "index_with_mapmakers"
   ]
  },
  {
   "cell_type": "code",
   "execution_count": null,
   "metadata": {},
   "outputs": [],
   "source": [
    "# Print out the rows that have not been filled in\n",
    "empty_dates = index_with_mapmakers[index_with_mapmakers['earliest_date_estimate'].isnull()]\n",
    "empty_dates"
   ]
  },
  {
   "cell_type": "code",
   "execution_count": null,
   "metadata": {},
   "outputs": [],
   "source": [
    "# handle the dates in the format \"1548 or 49\"\n",
    "\n",
    "for index, row in empty_dates.iterrows():\n",
    "    # check if there's an \"or\" in the date\n",
    "    date = row['date']\n",
    "\n",
    "    if 'or' in date:\n",
    "        earliest_date = date.split('or')[0].strip()\n",
    "        latest_date = date.split('or')[1].strip()\n",
    "        index_with_mapmakers.at[index, 'earliest_date_estimate'] = int(earliest_date)\n",
    "\n",
    "        if int(latest_date) < 10:\n",
    "            # if it's a single digit, replace the final digit of the earliest date with the single digit\n",
    "            index_with_mapmakers.at[index, 'latest_date_estimate'] = int(str(earliest_date)[:-1] + latest_date)\n",
    "        elif int(latest_date) < 100:\n",
    "            # if it's a double digit, replace the final two digits of the earliest date with the double digit\n",
    "            index_with_mapmakers.at[index, 'latest_date_estimate'] = int(str(earliest_date)[:-2] + latest_date)\n",
    "        elif int(latest_date) < 1000:\n",
    "            # if it's a triple digit, replace the final three digits of the earliest date with the triple digit\n",
    "            # this would look really weird, and I don't think Karrow actually did this\n",
    "            index_with_mapmakers.at[index, 'latest_date_estimate'] = int(str(earliest_date)[:-3] + latest_date)\n",
    "        elif int(latest_date) > int(earliest_date):\n",
    "            # if it's a full year, then we can use it as the latest date estimate\n",
    "            index_with_mapmakers.at[index, 'latest_date_estimate'] = int(latest_date)\n",
    "        else:\n",
    "            logging.warning(f\"Unable to parse date that contains 'or': {date}\")\n",
    "\n",
    "# report out the number of \"or\" dates that we found\n",
    "or_dates_count = index_with_mapmakers['earliest_date_estimate'].notnull().sum() - single_year_dates_count - range_dates_count\n",
    "\n",
    "logging.info(f'Found {or_dates_count} \"or\" dates out of {total_data_count} total data points')\n",
    "logging.info(f\"Now, {single_year_dates_count+range_dates_count+or_dates_count} out of {total_data_count} total data points have date estimates\")\n",
    "\n",
    "index_with_mapmakers"
   ]
  }
 ],
 "metadata": {
  "kernelspec": {
   "display_name": "maps",
   "language": "python",
   "name": "python3"
  },
  "language_info": {
   "codemirror_mode": {
    "name": "ipython",
    "version": 3
   },
   "file_extension": ".py",
   "mimetype": "text/x-python",
   "name": "python",
   "nbconvert_exporter": "python",
   "pygments_lexer": "ipython3"
  }
 },
 "nbformat": 4,
 "nbformat_minor": 2
}
