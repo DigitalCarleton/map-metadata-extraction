{
 "cells": [
  {
   "cell_type": "markdown",
   "metadata": {},
   "source": [
    "# Give a date range\n",
    "\n",
    "Goal: Turn dates from Karrow's index that are imprecise in some way and turn them into a range"
   ]
  },
  {
   "cell_type": "code",
   "execution_count": null,
   "metadata": {},
   "outputs": [],
   "source": [
    "import pandas as pd\n",
    "import numpy as np\n",
    "import logging\n",
    "\n",
    "# Set up logging\n",
    "logging.basicConfig(level=logging.INFO)"
   ]
  },
  {
   "cell_type": "code",
   "execution_count": null,
   "metadata": {},
   "outputs": [],
   "source": [
    "# load in the file from Index to Place and Date combined with mapmaker's names\n",
    "index_with_mapmakers = pd.read_csv('../outputs/index_to_place_and_date_and_mapmaker_names.csv')\n",
    "index_with_mapmakers"
   ]
  },
  {
   "cell_type": "code",
   "execution_count": null,
   "metadata": {},
   "outputs": [],
   "source": [
    "# add empty columns for estimates of earliest and latest dates for map publication\n",
    "index_with_mapmakers['earliest_date_estimate'] = np.nan\n",
    "index_with_mapmakers['latest_date_estimate'] = np.nan\n",
    "index_with_mapmakers"
   ]
  },
  {
   "cell_type": "code",
   "execution_count": null,
   "metadata": {},
   "outputs": [],
   "source": [
    "# iterate through the rows of the pandas dataframe and fill in the easier date estimates\n",
    "# NOTE: in general, iterating through rows is poor practice in pandas, but in this case it makes the code easier, and the data set is small, so I'm not worried about performance.\n",
    "\n",
    "total_data_count = len(index_with_mapmakers)\n",
    "\n",
    "for index, row in index_with_mapmakers.iterrows():\n",
    "    # get the date string\n",
    "    date = row['date']\n",
    "\n",
    "    # if the date is an integer (ie single year) between 1400 and 1900, then we can use it as the earliest and latest date estimate\n",
    "    if date.isnumeric() and int(date) >= 1400 and int(date) <= 1900:\n",
    "        index_with_mapmakers.at[index, 'earliest_date_estimate'] = int(date)\n",
    "        index_with_mapmakers.at[index, 'latest_date_estimate'] = int(date)\n",
    "\n",
    "# report out the number of single year dates that we found\n",
    "single_year_dates_count = index_with_mapmakers['earliest_date_estimate'].notnull().sum()\n",
    "\n",
    "logging.info(f'Found {single_year_dates_count} single year dates out of {total_data_count} total data points')\n",
    "    \n",
    "logging.info(f\"Value that should be empty or NaN or not a number: {index_with_mapmakers['earliest_date_estimate'].iloc[2318]}\")\n",
    "index_with_mapmakers"
   ]
  },
  {
   "cell_type": "code",
   "execution_count": null,
   "metadata": {},
   "outputs": [],
   "source": []
  }
 ],
 "metadata": {
  "kernelspec": {
   "display_name": "maps",
   "language": "python",
   "name": "python3"
  },
  "language_info": {
   "codemirror_mode": {
    "name": "ipython",
    "version": 3
   },
   "file_extension": ".py",
   "mimetype": "text/x-python",
   "name": "python",
   "nbconvert_exporter": "python",
   "pygments_lexer": "ipython3"
  }
 },
 "nbformat": 4,
 "nbformat_minor": 2
}
