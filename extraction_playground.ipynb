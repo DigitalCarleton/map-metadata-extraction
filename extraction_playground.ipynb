{
 "cells": [
  {
   "cell_type": "markdown",
   "metadata": {},
   "source": [
    "# Extraction Playground\n",
    "February 15, 2024\n",
    "\n",
    "A notebook to figure out the right regular expressions to extract information from the Index to Place and Date of Publication. \n",
    "\n",
    "Goal: Output a csv where each row is a map, and the columns are the place and the date of publication"
   ]
  },
  {
   "cell_type": "code",
   "execution_count": null,
   "metadata": {},
   "outputs": [],
   "source": [
    "import re\n",
    "import pandas as pd"
   ]
  },
  {
   "cell_type": "code",
   "execution_count": null,
   "metadata": {},
   "outputs": [],
   "source": [
    "with open(\"index_to_place_and_date.txt\") as f:\n",
    "    index = f.read()"
   ]
  },
  {
   "cell_type": "code",
   "execution_count": null,
   "metadata": {},
   "outputs": [],
   "source": [
    "index"
   ]
  },
  {
   "cell_type": "markdown",
   "metadata": {},
   "source": [
    "## Extract each city \n",
    "\n",
    "Goal 1: Use regular expressions (?) to pull out each city"
   ]
  },
  {
   "cell_type": "code",
   "execution_count": null,
   "metadata": {},
   "outputs": [],
   "source": [
    "# — Antwerp:\n",
    "\n",
    "city_regex_short_dash = \"— ?(.*):\" \n",
    "city_regex_long_dash = \"— ?(.*):\"\n",
    "\n",
    "city_regex = city_regex_short_dash + \"|\" + city_regex_long_dash"
   ]
  },
  {
   "cell_type": "code",
   "execution_count": null,
   "metadata": {},
   "outputs": [],
   "source": [
    "sample_string = \"\"\"Austria\n",
    "— Güssing: 1583, 26/E\n",
    "— Salzburg: 1551, 68/1; 1650, 68/1.6\n",
    "— Vienna: 1494, 24/А; 1508, 24/B; 1520, 7/1;\n",
    "1522, 24/C; 1541, 28/G.3; 1545?, 49/455;\n",
    "1546, 40/4; 1547, 40/4.1, 40/6, 40/7; 1549,\n",
    "40/4.2; 1552, 40/5.3; 1556, 49/D, 49/7; 1557,\n",
    "40/4.8; 1558, 49/11, 49/12, 49/14, 49/G, 49/\n",
    "H, 65/B, 65/D; by 1561, 49/J, 49/15-26;\n",
    "1566, 65/1, 65/2; 1571, 65/3; 1692, 16/H.1;\n",
    "1746, 65/1.3\n",
    "Germany\n",
    "— Augsburg: 1518, 9/A; 1521?, 64/C; 1530, 3/A;\n",
    "1547, 16/E; 1621, 79/8.9; 1684, 8/2.7a, 8/\n",
    "2.7b; 1776, 54/1.4; 1784, 54/1.4; 1866, 8/2.5\n",
    "— Berlin: 1766, 8/2.13\n",
    "— Celle: 1583, 55/A; 1593, 55/7\"\"\" \n",
    "sample_string"
   ]
  },
  {
   "cell_type": "code",
   "execution_count": null,
   "metadata": {},
   "outputs": [],
   "source": []
  },
  {
   "cell_type": "code",
   "execution_count": null,
   "metadata": {},
   "outputs": [],
   "source": [
    "re.findall(city_regex, sample_string)"
   ]
  },
  {
   "cell_type": "code",
   "execution_count": null,
   "metadata": {},
   "outputs": [],
   "source": [
    "\n",
    "within_country_regex = \"\""
   ]
  },
  {
   "cell_type": "markdown",
   "metadata": {},
   "source": [
    "# Attempt 2: Mostly string splitting\n",
    "\n",
    "Strategy for parsing\n",
    "1. Split the string based on the countries \n",
    "2. Grab the country, remove it from the rest of the string\n",
    "3. Split by cities \n",
    "4. For each city, grab the name and remove it from the rest of the string\n",
    "5. For each city, split into years? Each year ends with a colon if there’s not another\n",
    "6. For each year, strip whitespace (since entries are separated by commas) and split on commas\n",
    "7. For each entry, grab the mapmaker (first part), map/book, and then any notes (like editions or alternate years?)\n"
   ]
  },
  {
   "cell_type": "code",
   "execution_count": null,
   "metadata": {},
   "outputs": [],
   "source": [
    "with open(\"index_to_place_and_date.txt\") as f:\n",
    "    index = f.read()"
   ]
  },
  {
   "cell_type": "code",
   "execution_count": null,
   "metadata": {},
   "outputs": [],
   "source": [
    "by_country = index.split(\"\\n\\n\")\n",
    "by_country"
   ]
  },
  {
   "cell_type": "code",
   "execution_count": null,
   "metadata": {},
   "outputs": [],
   "source": [
    "# make a dictionary to store the data (eventually we will convert this to a pandas dataframe)\n",
    "# columns are: mapmaker, map/book, country, city, date, notes\n",
    "index_data = {\"mapmaker_id\": [], \"first_ed_map\": [], \"country\": [], \"city\": [], \"date\": []}\n",
    "\n",
    "for country_data in by_country:\n",
    "    # grab the country name (first line)\n",
    "    country_name = country_data.split(\"\\n\")[0]\n",
    "\n",
    "    # remove the country name from the data\n",
    "    country_data = country_data.replace(country_name, \"\").strip()\n",
    "    \n",
    "    # split the data by city\n",
    "    by_city = re.split(\"—|一\", country_data)\n",
    "    \n",
    "    for city_data in by_city[1:]: # skip the first element, which is empty\n",
    "        # grab the city name\n",
    "        city_name = re.split(\":\", city_data)[0]\n",
    "        city_name = city_name.strip() # remove leading/trailing whitespace\n",
    "        print(\"Next city\")\n",
    "        print(city_name)\n",
    "        \n",
    "        # remove the city name from the data\n",
    "        city_data = city_data.replace(city_name, \"\").strip()\n",
    "\n",
    "        # remove the leading colon and space left over from the city name\n",
    "        if city_data[0:2] == \": \":\n",
    "            city_data = city_data[2:]\n",
    "        if city_data[0:1] == \":\":\n",
    "            city_data = city_data[1:]\n",
    "\n",
    "        # split the data by date\n",
    "        by_date = city_data.split(\";\")  \n",
    "\n",
    "        for date_data in by_date:\n",
    "            # grab the date\n",
    "            date = re.split(\",\", date_data)[0]\n",
    "            date = date.strip()\n",
    "            print(date)\n",
    "            # print(date_data)\n",
    "            # print()\n",
    "\n",
    "            # remove the date from the data\n",
    "            date_data = date_data.replace(date, \"\").strip()\n",
    "\n",
    "            # remove the leading comma and space left over from the date\n",
    "            if date_data[0:2] == \", \":\n",
    "                date_data = date_data[2:]\n",
    "            if date_data[0:1] == \",\":\n",
    "                date_data = date_data[1:]\n",
    "\n",
    "            # split the data by entry \n",
    "            by_entry = date_data.split(\",\")\n",
    "\n",
    "            for entry_data in by_entry:\n",
    "                entry_data = entry_data.strip()\n",
    "                # remove newline characters\n",
    "                entry_data = entry_data.replace(\"\\n\", \"\")\n",
    "                print(entry_data)\n",
    "\n",
    "                mapmaker_id = entry_data.split(\"/\")[0]\n",
    "\n",
    "                try:\n",
    "                    object_id = entry_data.split(\"/\")[1]\n",
    "                except:\n",
    "                    print(\"Error: object id in incorrect format\")\n",
    "                    print(entry_data)\n",
    "                    print()\n",
    "                    continue\n",
    "\n",
    "                # Only grab first edition maps (denoted with a number) for now\n",
    "                # This code will miss any first edition maps that are followed by\n",
    "                # a year in brackets, but this can be fixed and I don't think there's many\n",
    "\n",
    "                first_ed_map_regex = \"[0-9]{1,3}\"\n",
    "                if re.fullmatch(first_ed_map_regex, object_id):\n",
    "                    index_data[\"mapmaker_id\"].append(mapmaker_id)\n",
    "                    index_data[\"first_ed_map\"].append(object_id)\n",
    "                    index_data[\"country\"].append(country_name)\n",
    "                    index_data[\"city\"].append(city_name)\n",
    "                    index_data[\"date\"].append(date)\n",
    "\n",
    "                range_of_maps_regex = \"([0-9]{1,3})-([0-9]{1,3})\"\n",
    "                if re.fullmatch(range_of_maps_regex, object_id):\n",
    "                    # grab the part before the dash and the part after the dash\n",
    "                    map_range = re.split(\"-\", object_id)\n",
    "                    map_range[0] = map_range[0].strip() \n",
    "                    map_range[1] = map_range[1].strip()\n",
    "\n",
    "                    \n",
    "                    length_diff = len(map_range[0]) - len(map_range[1])\n",
    "\n",
    "                    # if we have a range like 2-4, or 13-28, or 110-134\n",
    "                    if int(map_range[1]) > int(map_range[0]):\n",
    "                        for i in range(int(map_range[0]), int(map_range[1]) + 1):\n",
    "                            index_data[\"mapmaker_id\"].append(mapmaker_id)\n",
    "                            index_data[\"first_ed_map\"].append(str(i))\n",
    "                            index_data[\"country\"].append(country_name)\n",
    "                            index_data[\"city\"].append(city_name)\n",
    "                            index_data[\"date\"].append(date)\n",
    "\n",
    "                    # if we have a range like 12-7, 120-3\n",
    "                    elif length_diff > 0:\n",
    "                        map_range[1] = map_range[0][0:length_diff] + map_range[1]\n",
    "                        for i in range(int(map_range[0]), int(map_range[1]) + 1):\n",
    "                            index_data[\"mapmaker_id\"].append(mapmaker_id)\n",
    "                            index_data[\"first_ed_map\"].append(str(i))\n",
    "                            index_data[\"country\"].append(country_name)\n",
    "                            index_data[\"city\"].append(city_name)\n",
    "                            index_data[\"date\"].append(date)\n",
    "                    \n",
    "                    else:\n",
    "                        print(\"Error: range of maps not handled\")\n",
    "                        print(map_range)\n",
    "                        print(entry_data)\n",
    "                        print()\n",
    "\n",
    "\n",
    "\n",
    "index_df = pd.DataFrame(index_data)\n",
    "\n",
    "\n",
    "\n",
    "   \n",
    "    "
   ]
  },
  {
   "cell_type": "code",
   "execution_count": null,
   "metadata": {},
   "outputs": [],
   "source": [
    "index_df"
   ]
  },
  {
   "cell_type": "code",
   "execution_count": null,
   "metadata": {},
   "outputs": [],
   "source": [
    "index_df.to_csv(\"index_to_place_and_date_v1.csv\", index=False)"
   ]
  }
 ],
 "metadata": {
  "kernelspec": {
   "display_name": "internet",
   "language": "python",
   "name": "python3"
  },
  "language_info": {
   "codemirror_mode": {
    "name": "ipython",
    "version": 3
   },
   "file_extension": ".py",
   "mimetype": "text/x-python",
   "name": "python",
   "nbconvert_exporter": "python",
   "pygments_lexer": "ipython3"
  }
 },
 "nbformat": 4,
 "nbformat_minor": 2
}
